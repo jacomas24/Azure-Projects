{
  "cells": [
    {
      "cell_type": "markdown",
      "metadata": {
        "id": "view-in-github",
        "colab_type": "text"
      },
      "source": [
        "<a href=\"https://colab.research.google.com/github/jacomas24/Azure-Projects/blob/main/Web%20Scraping%20with%20Beautiful%20Soup.ipynb\" target=\"_parent\"><img src=\"https://colab.research.google.com/assets/colab-badge.svg\" alt=\"Open In Colab\"/></a>"
      ]
    },
    {
      "cell_type": "markdown",
      "metadata": {
        "id": "DrHOhDgmgouN"
      },
      "source": [
        "# Web Scraping with Beautiful Soup"
      ]
    },
    {
      "cell_type": "markdown",
      "metadata": {
        "id": "XQU7i8vZgouR"
      },
      "source": [
        "After eating chocolate bars your whole life, you've decided to go on a quest to find the greatest chocolate bar in the world.\n",
        "\n",
        "You've found a website that has a table with over 1700 reviews of chocolate bars from all around the world.\n",
        "\n",
        "The rating scale is from 1-5, as described in <a href=\"http://flavorsofcacao.com/review_guide.html\">this review guide</a>. A `1` is \"unpleasant\" chocolate, while a `5` is a bar that transcends \"beyond the ordinary limits\"."
      ]
    },
    {
      "cell_type": "markdown",
      "metadata": {
        "id": "oWra91yHgouS"
      },
      "source": [
        "## Make Some Chocolate Soup"
      ]
    },
    {
      "cell_type": "markdown",
      "metadata": {
        "id": "rhidC_W_gouS"
      },
      "source": [
        "1. Let's make a request to the website to get the raw HTML, which we later turn into a BeautifulSoup object.\n",
        "\n",
        "   The URL is\n",
        "\n",
        "```\n",
        "https://content.codecademy.com/courses/beautifulsoup/cacao/index.html\n",
        "```"
      ]
    },
    {
      "cell_type": "code",
      "execution_count": 1,
      "metadata": {
        "id": "WZKyprXngouT"
      },
      "outputs": [],
      "source": [
        "import requests\n",
        "chocolate = requests.get(\"https://content.codecademy.com/courses/beautifulsoup/cacao/index.html\")"
      ]
    },
    {
      "cell_type": "markdown",
      "metadata": {
        "id": "DdpcVtR9gouU"
      },
      "source": [
        "2. Create a BeautifulSoup object called `soup` to traverse this HTML."
      ]
    },
    {
      "cell_type": "code",
      "execution_count": 2,
      "metadata": {
        "id": "BuxhtwDQgouU"
      },
      "outputs": [],
      "source": [
        "from bs4 import BeautifulSoup\n",
        "soup = BeautifulSoup(chocolate.content, \"html.parser\")"
      ]
    },
    {
      "cell_type": "markdown",
      "metadata": {
        "id": "oVwqepzggouV"
      },
      "source": [
        "3. Print out the `soup` object to explore the HTML."
      ]
    },
    {
      "cell_type": "code",
      "execution_count": null,
      "metadata": {
        "id": "EmIQP-8WgouW"
      },
      "outputs": [],
      "source": [
        "print(soup)"
      ]
    },
    {
      "cell_type": "markdown",
      "metadata": {
        "id": "WZPCTeQ6gouW"
      },
      "source": [
        "## Where are the best cocao beans grown?"
      ]
    },
    {
      "cell_type": "markdown",
      "metadata": {
        "id": "dH7leKkIgouX"
      },
      "source": [
        "4. How are ratings distributed? Let's make a histogram of this data."
      ]
    },
    {
      "cell_type": "code",
      "execution_count": 19,
      "metadata": {
        "id": "H2HX2yvIgouX"
      },
      "outputs": [],
      "source": [
        "rating_tags = soup.find_all(attrs={\"class\": \"Rating\"})\n"
      ]
    },
    {
      "cell_type": "markdown",
      "metadata": {
        "id": "yzZca2RKgouX"
      },
      "source": [
        "5. Create a list to store all the ratings in."
      ]
    },
    {
      "cell_type": "code",
      "execution_count": 5,
      "metadata": {
        "id": "YFybmGd8gouY"
      },
      "outputs": [],
      "source": [
        "ratings = []"
      ]
    },
    {
      "cell_type": "code",
      "execution_count": 24,
      "metadata": {
        "id": "vUEOaxMfgouY"
      },
      "outputs": [],
      "source": [
        "for rating in rating_tags[1:]:\n",
        "    rate_text = rating.get_text()\n",
        "    rate_score = float(rate_text)\n",
        "    ratings.append(rate_score)\n"
      ]
    },
    {
      "cell_type": "markdown",
      "metadata": {
        "id": "oHxKkvThgouY"
      },
      "source": [
        "6. Create a histogram of the ratings values:"
      ]
    },
    {
      "cell_type": "code",
      "execution_count": 7,
      "metadata": {
        "id": "zWQCu2BFgouZ",
        "colab": {
          "base_uri": "https://localhost:8080/",
          "height": 265
        },
        "outputId": "b638eafa-bde0-4077-e0aa-af5fc8fe21ee"
      },
      "outputs": [
        {
          "output_type": "display_data",
          "data": {
            "text/plain": [
              "<Figure size 432x288 with 1 Axes>"
            ],
            "image/png": "[encoded data removed]"
          },
          "metadata": {
            "needs_background": "light"
          }
        }
      ],
      "source": [
        "import matplotlib.pyplot as plt\n",
        "plt.hist(ratings)\n",
        "plt.show()"
      ]
    },
    {
      "cell_type": "markdown",
      "metadata": {
        "id": "z5Ig7SVrgouZ"
      },
      "source": [
        "## Which chocolatier makes the best chocolate?"
      ]
    },
    {
      "cell_type": "markdown",
      "metadata": {
        "id": "O17FATjggouZ"
      },
      "source": [
        "7. We want to now find the 10 most highly rated chocolatiers.\n",
        " \n",
        "   Create a DataFrame that has the chocolate companies in one column, and the ratings in another. Then, find the ones with the highest average rating."
      ]
    },
    {
      "cell_type": "code",
      "execution_count": 25,
      "metadata": {
        "id": "ruuYn941gouZ"
      },
      "outputs": [],
      "source": [
        "company_tags = soup.select(\".Company\")"
      ]
    },
    {
      "cell_type": "code",
      "execution_count": 9,
      "metadata": {
        "id": "B6mBV-Nwgoua"
      },
      "outputs": [],
      "source": [
        "names = []"
      ]
    },
    {
      "cell_type": "code",
      "execution_count": 10,
      "metadata": {
        "id": "GDwhemuQgoua"
      },
      "outputs": [],
      "source": [
        "for td in company_tags[1:]:\n",
        "    names.append(td.get_text())"
      ]
    },
    {
      "cell_type": "code",
      "execution_count": 11,
      "metadata": {
        "id": "UqQT0qOGgoua"
      },
      "outputs": [],
      "source": [
        "import pandas as pd\n",
        "company_ratings = {\"Company\": names, \"Ratings\": ratings}\n",
        "cacao_df = pd.DataFrame.from_dict(company_ratings)"
      ]
    },
    {
      "cell_type": "markdown",
      "metadata": {
        "id": "QY8vWW1Ugoub"
      },
      "source": [
        "8. Group your DataFrame by Company and take the average of the grouped ratings.\n",
        "\n",
        "    Then, get the 10 highest rated chocolate companies."
      ]
    },
    {
      "cell_type": "code",
      "execution_count": 12,
      "metadata": {
        "id": "sjgLiQYYgoub",
        "colab": {
          "base_uri": "https://localhost:8080/"
        },
        "outputId": "ae0f31f5-0490-421f-8e87-04d492405ea3"
      },
      "outputs": [
        {
          "output_type": "stream",
          "name": "stdout",
          "text": [
            "Company\n",
            "Tobago Estate (Pralus)                  4.000000\n",
            "Heirloom Cacao Preservation (Zokoko)    3.875000\n",
            "Ocelot                                  3.875000\n",
            "Amedei                                  3.846154\n",
            "Matale                                  3.812500\n",
            "Patric                                  3.791667\n",
            "Idilio (Felchlin)                       3.775000\n",
            "Acalli                                  3.750000\n",
            "Chocola'te                              3.750000\n",
            "Christopher Morel (Felchlin)            3.750000\n",
            "Name: Ratings, dtype: float64\n"
          ]
        }
      ],
      "source": [
        "mean_ratings = cacao_df.groupby(\"Company\").Ratings.mean()\n",
        "ten_best = mean_ratings.nlargest(10)\n",
        "print(ten_best)"
      ]
    },
    {
      "cell_type": "markdown",
      "metadata": {
        "id": "241T-MLVgoub"
      },
      "source": [
        "## Is more cacao better?"
      ]
    },
    {
      "cell_type": "markdown",
      "metadata": {
        "id": "rNu_YQnKgoub"
      },
      "source": [
        "9. We want to see if the chocolate experts tend to rate chocolate bars with higher levels of cacoa to be better than those with lower levels of cacoa.\n",
        "   \n",
        "   Create a list that contains all of the cocoa percentages. "
      ]
    },
    {
      "cell_type": "code",
      "execution_count": 13,
      "metadata": {
        "id": "xfJy0KbLgoub"
      },
      "outputs": [],
      "source": [
        "cocoa_percents = []\n",
        "cocoa_percent_tags = soup.select(\".CocoaPercent\")\n",
        "\n",
        "for td in cocoa_percent_tags[1:]:\n",
        "    percent = float(td.get_text().strip('%'))\n",
        "    cocoa_percents.append(percent)"
      ]
    },
    {
      "cell_type": "markdown",
      "metadata": {
        "id": "ZC1p3KSUgouc"
      },
      "source": [
        "10. Add the cocoa percentages as a column called `\"CocoaPercentage\"` in the DataFrame that has companies and ratings in it."
      ]
    },
    {
      "cell_type": "code",
      "execution_count": 14,
      "metadata": {
        "id": "FvO23fOjgouc"
      },
      "outputs": [],
      "source": [
        "cocoa = {\"Company\": names, \"Ratings\": ratings, \"CocoaPercentage\": cocoa_percents}\n",
        "cocoa_df = pd.DataFrame.from_dict(cocoa)"
      ]
    },
    {
      "cell_type": "markdown",
      "metadata": {
        "id": "b_SIMMdKgouc"
      },
      "source": [
        "11. Make a scatterplot of ratings vs percentage of cocoa."
      ]
    },
    {
      "cell_type": "code",
      "execution_count": 15,
      "metadata": {
        "id": "hg9elO75gouc",
        "colab": {
          "base_uri": "https://localhost:8080/",
          "height": 265
        },
        "outputId": "7bc9a317-a4a8-4922-f020-61ca18608b18"
      },
      "outputs": [
        {
          "output_type": "display_data",
          "data": {
            "text/plain": [
              "<Figure size 432x288 with 1 Axes>"
            ],
            "image/png": "[encoded data removed]"
          },
          "metadata": {
            "needs_background": "light"
          }
        }
      ],
      "source": [
        "plt.scatter(cocoa_df.CocoaPercentage, cocoa_df.Ratings)\n",
        "plt.show()"
      ]
    },
    {
      "cell_type": "markdown",
      "metadata": {
        "id": "IEuNB3begouc"
      },
      "source": [
        "12. Draw a line of best-fit over the scatterplot."
      ]
    },
    {
      "cell_type": "code",
      "execution_count": 16,
      "metadata": {
        "id": "SatzyrEkgouc",
        "colab": {
          "base_uri": "https://localhost:8080/",
          "height": 265
        },
        "outputId": "52ac1afd-b3f3-4f42-c77c-8c33313575a2"
      },
      "outputs": [
        {
          "output_type": "display_data",
          "data": {
            "text/plain": [
              "<Figure size 432x288 with 1 Axes>"
            ],
            "image/png": "[encoded data removed]"
          },
          "metadata": {
            "needs_background": "light"
          }
        }
      ],
      "source": [
        "import numpy as np\n",
        "plt.scatter(cocoa_df.CocoaPercentage, cocoa_df.Ratings)\n",
        "z = np.polyfit(cocoa_df.CocoaPercentage, cocoa_df.Ratings, 1)\n",
        "line_function = np.poly1d(z)\n",
        "plt.plot(cocoa_df.CocoaPercentage, line_function(cocoa_df.CocoaPercentage), \"r-\")\n",
        "plt.show()"
      ]
    },
    {
      "cell_type": "markdown",
      "metadata": {
        "id": "-nH9VV_Cgouc"
      },
      "source": [
        "## Explore!"
      ]
    },
    {
      "cell_type": "markdown",
      "metadata": {
        "id": "Y_4jIm7Egoud"
      },
      "source": [
        "13. What other kinds of questions can you answer? Use a combination of BeautifulSoup and Pandas to explore some more."
      ]
    },
    {
      "cell_type": "code",
      "execution_count": 17,
      "metadata": {
        "id": "_Mf7nA0vgoud",
        "colab": {
          "base_uri": "https://localhost:8080/"
        },
        "outputId": "0dd0e17e-9b8f-4e45-8f5b-f36b9ab6e464"
      },
      "outputs": [
        {
          "output_type": "stream",
          "name": "stdout",
          "text": [
            "Bean Origin\n",
            "Peru, Ecuador                   99.000000\n",
            "Guat., D.R., Peru, Mad., PNG    88.000000\n",
            "Samoa                           85.000000\n",
            "Venezuela/ Ghana                85.000000\n",
            "Sao Tome & Principe             79.357143\n",
            "Central and S. America          78.000000\n",
            "Principe                        77.000000\n",
            "Carribean                       76.250000\n",
            "El Salvador                     75.000000\n",
            "Gabon                           75.000000\n",
            "Name: CocoaPercentage, dtype: float64\n"
          ]
        }
      ],
      "source": [
        "## Question 1: Where are the best cocoa beans grown?\n",
        "origins = []\n",
        "origin_tags = soup.select(\".BroadBeanOrigin\")\n",
        "\n",
        "for td in origin_tags[1:]:\n",
        "    country = td.get_text()\n",
        "    origins.append(country)\n",
        "    \n",
        "beans = {\"Bean Origin\": origins, \"CocoaPercentage\": cocoa_percents}\n",
        "beans_df = pd.DataFrame.from_dict(beans)\n",
        "\n",
        "mean_percent = beans_df.groupby(\"Bean Origin\").CocoaPercentage.mean()\n",
        "ten_best = mean_percent.nlargest(10)\n",
        "print(ten_best)"
      ]
    },
    {
      "cell_type": "code",
      "execution_count": 18,
      "metadata": {
        "id": "BGUwjkgugoud",
        "colab": {
          "base_uri": "https://localhost:8080/"
        },
        "outputId": "20e87b65-9ca5-42c0-f059-e7ce80cf63cf"
      },
      "outputs": [
        {
          "output_type": "stream",
          "name": "stdout",
          "text": [
            "CompanyLocation\n",
            "Chile          3.750000\n",
            "Amsterdam      3.500000\n",
            "Netherlands    3.500000\n",
            "Philippines    3.500000\n",
            "Iceland        3.416667\n",
            "Vietnam        3.409091\n",
            "Brazil         3.397059\n",
            "Poland         3.375000\n",
            "Australia      3.357143\n",
            "Guatemala      3.350000\n",
            "Name: Rating, dtype: float64\n"
          ]
        }
      ],
      "source": [
        "## Question 2: Which countries produce the highest-rated bars?\n",
        "countries = []\n",
        "country_tags = soup.select(\".CompanyLocation\")\n",
        "\n",
        "for td in country_tags[1:]:\n",
        "    country = td.get_text()\n",
        "    countries.append(country)\n",
        "    \n",
        "bars = {\"CompanyLocation\": countries, \"Rating\": ratings}\n",
        "bars_df = pd.DataFrame.from_dict(bars)\n",
        "\n",
        "mean_rating = bars_df.groupby(\"CompanyLocation\").Rating.mean()\n",
        "ten_best = mean_rating.nlargest(10)\n",
        "print(ten_best)"
      ]
    }
  ],
  "metadata": {
    "interpreter": {
      "hash": "26de051ba29f2982a8de78e945f0abaf191376122a1563185a90213a26c5da77"
    },
    "kernelspec": {
      "display_name": "Python 3.10.4 64-bit",
      "language": "python",
      "name": "python3"
    },
    "language_info": {
      "codemirror_mode": {
        "name": "ipython",
        "version": 3
      },
      "file_extension": ".py",
      "mimetype": "text/x-python",
      "name": "python",
      "nbconvert_exporter": "python",
      "pygments_lexer": "ipython3",
      "version": "3.10.4"
    },
    "colab": {
      "name": "Scraping with Beautiful Soup.ipynb",
      "provenance": [],
      "include_colab_link": true
    }
  },
  "nbformat": 4,
  "nbformat_minor": 0
}